{
 "cells": [
  {
   "cell_type": "code",
   "execution_count": 4,
   "id": "b4881dd2",
   "metadata": {},
   "outputs": [
    {
     "name": "stdout",
     "output_type": "stream",
     "text": [
      "b'{\"features\":{\"x\":2.9,\"y\":3.0},\"prediction\":1}\\n'\n"
     ]
    }
   ],
   "source": [
    "import requests\n",
    "response = requests.get(\"http://localhost:5000/api/v1.0/predict?x=2.9&y=3\") # TWOJ KOD\n",
    "\n",
    "if response.status_code == 200:\n",
    "    print(response.content)"
   ]
  }
 ],
 "metadata": {
  "kernelspec": {
   "display_name": "base",
   "language": "python",
   "name": "python3"
  },
  "language_info": {
   "codemirror_mode": {
    "name": "ipython",
    "version": 3
   },
   "file_extension": ".py",
   "mimetype": "text/x-python",
   "name": "python",
   "nbconvert_exporter": "python",
   "pygments_lexer": "ipython3",
   "version": "3.12.7"
  }
 },
 "nbformat": 4,
 "nbformat_minor": 5
}
